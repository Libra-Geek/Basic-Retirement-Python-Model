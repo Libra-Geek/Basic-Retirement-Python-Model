{
 "cells": [
  {
   "cell_type": "code",
   "execution_count": 10,
   "id": "0e52eeb6",
   "metadata": {},
   "outputs": [],
   "source": [
    "import numpy as np\n",
    "import numpy_financial as npf"
   ]
  },
  {
   "cell_type": "code",
   "execution_count": 11,
   "id": "7597657d",
   "metadata": {},
   "outputs": [],
   "source": [
    "salary = 60000\n",
    "savings_rate = 0.25\n",
    "investment_rate = 0.05\n",
    "desired_cash = 1500000"
   ]
  },
  {
   "cell_type": "code",
   "execution_count": 14,
   "id": "3cdb0233",
   "metadata": {},
   "outputs": [
    {
     "data": {
      "text/plain": [
       "15000.0"
      ]
     },
     "execution_count": 14,
     "metadata": {},
     "output_type": "execute_result"
    }
   ],
   "source": [
    "annual_cash = salary*savings_rate\n",
    "annual_cash"
   ]
  },
  {
   "cell_type": "code",
   "execution_count": 16,
   "id": "b3a341c4",
   "metadata": {},
   "outputs": [
    {
     "name": "stdout",
     "output_type": "stream",
     "text": [
      "Jane has 36.7 years to retirement.\n"
     ]
    }
   ],
   "source": [
    "years2retirement = npf.nper(investment_rate , -annual_cash, 0, desired_cash)\n",
    "print(f'Jane has {years2retirement:.1f} years to retirement.')"
   ]
  },
  {
   "cell_type": "code",
   "execution_count": 33,
   "id": "bac8aedb",
   "metadata": {},
   "outputs": [],
   "source": [
    "investment_rates = [0.05, 0.06, 0.07]"
   ]
  },
  {
   "cell_type": "code",
   "execution_count": 34,
   "id": "b9afa6a3",
   "metadata": {},
   "outputs": [
    {
     "name": "stdout",
     "output_type": "stream",
     "text": [
      "Jane has 36.7 years to retirement if she earns a 0.05 investment rate\n",
      "Jane has 33.4 years to retirement if she earns a 0.06 investment rate\n",
      "Jane has 30.7 years to retirement if she earns a 0.07 investment rate\n",
      "done\n"
     ]
    }
   ],
   "source": [
    "for irates in investment_rates:\n",
    "    years2retirement = npf.nper(irates, -annual_cash, 0, desired_cash)\n",
    "    print(f'Jane has {years2retirement:.1f} years to retirement if she earns a {irates:.2f} investment rate')\n",
    "print('done')"
   ]
  },
  {
   "cell_type": "markdown",
   "id": "288d4483",
   "metadata": {},
   "source": [
    "## Nested For Loops"
   ]
  },
  {
   "cell_type": "code",
   "execution_count": 48,
   "id": "0215c61f",
   "metadata": {
    "scrolled": true
   },
   "outputs": [
    {
     "name": "stdout",
     "output_type": "stream",
     "text": [
      "Jane has 61.1 years to retirement if she earns a 0.04 investment rate and has a 10% savings rate\n",
      "Jane has 41.0 years to retirement if she earns a 0.04 investment rate and has a 25% savings rate\n",
      "Jane has 31.9 years to retirement if she earns a 0.04 investment rate and has a 40% savings rate\n",
      "Jane has 53.3 years to retirement if she earns a 0.05 investment rate and has a 10% savings rate\n",
      "Jane has 36.7 years to retirement if she earns a 0.05 investment rate and has a 25% savings rate\n",
      "Jane has 29.0 years to retirement if she earns a 0.05 investment rate and has a 40% savings rate\n",
      "Jane has 47.6 years to retirement if she earns a 0.06 investment rate and has a 10% savings rate\n",
      "Jane has 33.4 years to retirement if she earns a 0.06 investment rate and has a 25% savings rate\n",
      "Jane has 26.7 years to retirement if she earns a 0.06 investment rate and has a 40% savings rate\n",
      "done\n"
     ]
    }
   ],
   "source": [
    "# iterating over a series of savings and interest rates\n",
    "\n",
    "salary = 60000\n",
    "desired_cash = 1500000\n",
    "\n",
    "# we changed the savings rate to a list of rates and investment rate to a list as well\n",
    "\n",
    "sav_rates = [0.10, 0.25, 0.40]\n",
    "invest_rates = [0.04, 0.05, 0.06]\n",
    "\n",
    "# I built a forloop to iterate over the list:\n",
    "\n",
    "\n",
    "for i_rates in invest_rates:\n",
    "    for savr in sav_rates:\n",
    "        new_annual_cash = salary * savr\n",
    "        newretirement = npf.nper(i_rates, -new_annual_cash, 0, desired_cash)\n",
    "        print(f'Jane has {newretirement:.1f} years to retirement if she earns a {i_rates:.2f} investment rate and has a {savr:.0%} savings rate')\n",
    "print('done')"
   ]
  },
  {
   "cell_type": "markdown",
   "id": "c79b457a",
   "metadata": {},
   "source": []
  },
  {
   "cell_type": "code",
   "execution_count": null,
   "id": "1198667e",
   "metadata": {},
   "outputs": [],
   "source": []
  }
 ],
 "metadata": {
  "kernelspec": {
   "display_name": "Python 3 (ipykernel)",
   "language": "python",
   "name": "python3"
  },
  "language_info": {
   "codemirror_mode": {
    "name": "ipython",
    "version": 3
   },
   "file_extension": ".py",
   "mimetype": "text/x-python",
   "name": "python",
   "nbconvert_exporter": "python",
   "pygments_lexer": "ipython3",
   "version": "3.9.13"
  }
 },
 "nbformat": 4,
 "nbformat_minor": 5
}
